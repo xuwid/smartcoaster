{
 "cells": [
  {
   "cell_type": "markdown",
   "id": "4d5275fd",
   "metadata": {},
   "source": [
    "# Consider the following"
   ]
  },
  {
   "attachments": {},
   "cell_type": "markdown",
   "id": "8744792a",
   "metadata": {},
   "source": [
    "## Function Definition\n",
    "\n",
    "The function $ f(x)$ is defined as follows:\n",
    "\n",
    "$\n",
    "f(x) = \\cos(x) + x^3 - 0.5\n",
    "$\n",
    "\n",
    "### Description\n",
    "\n",
    "This function combines a trigonometric component, $ \\cos(x) $, with a polynomial component, $ x^3$. The goal is to find the roots of this function, which occur where $ f(x) = 0 $.\n",
    "\n",
    "\n",
    "**Tasks**:\n",
    "1. Use appropriate theorem to determine whether a root exists for the above function. Test different values from -5 to 5 or any other range.\n",
    "2. You must keep the same tolerance value. Choose smallest tolerance value. Choose initial guess as disscused in class.\n",
    "3. Apply the following numerical methods to approximate the root:\n",
    "   - Bisection Method\n",
    "   - Newton-Raphson Method\n",
    "   - Fixed Point Method (incase g(x) exists that assure convergence)\n",
    "   - Secant Method\n",
    "\n",
    "4. You must fill the table given below. "
   ]
  },
  {
   "cell_type": "code",
   "execution_count": null,
   "id": "771211fd",
   "metadata": {},
   "outputs": [],
   "source": []
  },
  {
   "cell_type": "markdown",
   "id": "66f9dce6",
   "metadata": {},
   "source": [
    "##### Comparison of Numerical Methods: Manual vs SciPy Implementations\n",
    "\n",
    "| Method           | Approximate Root (Manual) | Approximate Root (SciPy) | Iterations (Manual) | Iterations (SciPy) | Notes/Observations                  |\n",
    "|------------------|---------------------------|--------------------------|---------------------|--------------------|--------------------------------------|\n",
    "| Bisection        | ?                         | ?                        | ?                   | ?                  | ?                                    |\n",
    "| Newton-Raphson   | ?                         | ?                        | ?                   | ?                  | ?                                    |\n",
    "| Fixed Point      | ?                         | ?                        | ?                   | ?                  | ?                                    |\n",
    "| Secant           | ?                         | ?                        | ?                   | ?                  | ?                                    |\n",
    "\n",
    "---\n",
    "\n",
    "##### Instructions:\n",
    "- **Manual Implementation**: Implement each method yourself without using external libraries.\n",
    "- **SciPy Implementation**: Use the corresponding `scipy.optimize` functions (e.g., `scipy.optimize.bisect` for Bisection).\n",
    "- **Compare**: Fill in the results for both approaches (manual vs SciPy) for each method.\n",
    "- **Notes/Observations**: Reflect on differences in performance, accuracy, and ease of implementation between your manual solution and the SciPy function.\n"
   ]
  },
  {
   "cell_type": "code",
   "execution_count": null,
   "id": "7ba7b3da",
   "metadata": {},
   "outputs": [],
   "source": []
  },
  {
   "cell_type": "code",
   "execution_count": 2,
   "id": "215226a6",
   "metadata": {},
   "outputs": [],
   "source": [
    "# All imports here\n",
    "import numpy as np\n",
    "from scipy.optimize import bisect\n",
    "from scipy.optimize import newton\n",
    "from scipy.optimize import fixed_point\n"
   ]
  },
  {
   "cell_type": "code",
   "execution_count": 5,
   "id": "78eb61ba",
   "metadata": {},
   "outputs": [],
   "source": [
    "# TODO: Implement only the function above in python $f(x) = \\cos(x) + x^3 - 0.5$\n",
    "\n",
    "def f(x):\n",
    "    return np.cos(x) + x**3 - 0.5\n",
    "\n"
   ]
  },
  {
   "cell_type": "code",
   "execution_count": null,
   "id": "b4ad5ab1",
   "metadata": {},
   "outputs": [],
   "source": []
  },
  {
   "cell_type": "code",
   "execution_count": 6,
   "id": "d828726f",
   "metadata": {},
   "outputs": [],
   "source": [
    "# TODO: Implement the Bisection method for root approximation below\n",
    "\n",
    "def bisection(f, a, b, tol=1.e-6):\n",
    "    iteration = 0  \n",
    "    if f(a) * f(b) < 0.0:  \n",
    "        while (b - a) > tol:  \n",
    "            iteration += 1\n",
    "            x = (a + b) / 2\n",
    "            if f(a) * f(x) < 0.0:\n",
    "                b = x  \n",
    "            elif f(x) * f(b) < 0.0:\n",
    "                a = x  \n",
    "            else:\n",
    "                break  \n",
    "            print(f\"Bisection Iteration {iteration}: x = {x}\")\n",
    "    else:\n",
    "        print('Failure: f(a) and f(b) must have opposite signs')\n",
    "        return None, iteration\n",
    "    return x, iteration\n",
    "\n"
   ]
  },
  {
   "cell_type": "code",
   "execution_count": null,
   "id": "a7e5b874",
   "metadata": {},
   "outputs": [],
   "source": []
  },
  {
   "cell_type": "code",
   "execution_count": 7,
   "id": "03d3b302",
   "metadata": {},
   "outputs": [],
   "source": [
    "# TODO: Implement the Fixed point method for root approximation below, incase there are suitable g(x) to approximate the fixed point else mention the reason?\n",
    "\n",
    "def g(x):\n",
    "    value = 0.5 - np.cos(x)\n",
    "    if value < 0:\n",
    "        return -(-value)**(1/3)  \n",
    "    else:\n",
    "        return value**(1/3)\n",
    "\n",
    "def fixed_point(g, x0, tol=1.e-6, max_iter=60):\n",
    "    iteration = 0\n",
    "    x = x0\n",
    "    while iteration < max_iter:\n",
    "        iteration += 1\n",
    "        x_new = g(x)\n",
    "        if abs(x_new - x) < tol:  \n",
    "            return x_new, iteration\n",
    "        x = x_new  \n",
    "        print(f\"Fixed Point Iteration {iteration}: x = {x}\")\n",
    "    return x, iteration  \n",
    "\n"
   ]
  },
  {
   "cell_type": "code",
   "execution_count": null,
   "id": "3cdf4e36",
   "metadata": {},
   "outputs": [],
   "source": []
  },
  {
   "cell_type": "code",
   "execution_count": 8,
   "id": "e632d336",
   "metadata": {},
   "outputs": [],
   "source": [
    "# TODO: Implement the derivative of the function\n",
    "\n",
    "def df(x):\n",
    "    return -np.sin(x) + 3*x**2\n",
    "\n",
    "\n",
    "\n",
    "# TODO: Implement the newton raphson method for root approximation below, choose the initial guess as disscussed in the class. \n",
    "\n",
    "def newton_raphson(f, df, x0, tol=1.e-6, max_iter=60):\n",
    "    iteration = 0\n",
    "    x = x0\n",
    "    while iteration < max_iter:\n",
    "        iteration += 1\n",
    "        fx = f(x)\n",
    "        dfx = df(x)\n",
    "        if abs(fx) < tol:  \n",
    "            return x, iteration\n",
    "        x = x - fx / dfx  \n",
    "        print(f\"Newton-Raphson Iteration {iteration}: x = {x}\")\n",
    "    return x, iteration  \n",
    "\n",
    "\n"
   ]
  },
  {
   "cell_type": "code",
   "execution_count": 9,
   "id": "da1a6080",
   "metadata": {},
   "outputs": [],
   "source": [
    "# TODO: Implement the secant method for root approximation below\n",
    "\n",
    "def secant_method(f, x0, x1, tol=1.e-6, max_iter=60):\n",
    "    iteration = 0\n",
    "    while iteration < max_iter:\n",
    "        iteration += 1\n",
    "        fx0, fx1 = f(x0), f(x1)\n",
    "        if abs(fx1) < tol:  \n",
    "            return x1, iteration\n",
    "        x_new = x1 - fx1 * (x1 - x0) / (fx1 - fx0)\n",
    "        x0, x1 = x1, x_new  \n",
    "        print(f\"Secant Iteration {iteration}: x = {x1}\")\n",
    "    return x1, iteration  \n",
    "\n"
   ]
  },
  {
   "cell_type": "markdown",
   "id": "2600b13b",
   "metadata": {},
   "source": [
    "## Function calls for each numerical method you implemented in above functions"
   ]
  },
  {
   "cell_type": "code",
   "execution_count": null,
   "id": "748282bf",
   "metadata": {},
   "outputs": [],
   "source": []
  },
  {
   "cell_type": "code",
   "execution_count": 22,
   "id": "501360fb",
   "metadata": {},
   "outputs": [
    {
     "name": "stdout",
     "output_type": "stream",
     "text": [
      "Bisection Iteration 1: x = -0.5\n",
      "Bisection Iteration 2: x = -0.75\n",
      "Bisection Iteration 3: x = -0.625\n",
      "Bisection Iteration 4: x = -0.6875\n",
      "Bisection Iteration 5: x = -0.65625\n",
      "Bisection Iteration 6: x = -0.671875\n",
      "Bisection Iteration 7: x = -0.6640625\n",
      "Bisection Iteration 8: x = -0.66015625\n",
      "Bisection Iteration 9: x = -0.662109375\n",
      "Bisection Iteration 10: x = -0.6611328125\n",
      "Bisection Iteration 11: x = -0.66162109375\n",
      "Bisection Iteration 12: x = -0.661376953125\n",
      "Bisection Iteration 13: x = -0.6612548828125\n",
      "Bisection Iteration 14: x = -0.66131591796875\n",
      "Bisection Iteration 15: x = -0.661285400390625\n",
      "Bisection Iteration 16: x = -0.6613006591796875\n",
      "Bisection Iteration 17: x = -0.6612930297851562\n",
      "Bisection Iteration 18: x = -0.6612968444824219\n",
      "Bisection Iteration 19: x = -0.6612987518310547\n",
      "Bisection Iteration 20: x = -0.6612977981567383\n",
      "Bisection Method: Root = -0.6612977981567383, Iterations = 20\n"
     ]
    }
   ],
   "source": [
    "# Bisection method\n",
    "from json import tool\n",
    "\n",
    "a = -1\n",
    "b = 0\n",
    "tol = 1.e-6\n",
    "root_bisection, iter_bisection = bisection(f, a, b, tol)\n",
    "print(f'Bisection Method: Root = {root_bisection}, Iterations = {iter_bisection}')\n"
   ]
  },
  {
   "cell_type": "code",
   "execution_count": 23,
   "id": "887c601a",
   "metadata": {},
   "outputs": [
    {
     "name": "stdout",
     "output_type": "stream",
     "text": [
      "Fixed Point Iteration 1: x = -0.6421882996316265\n",
      "Fixed Point Iteration 2: x = -0.6700178178106098\n",
      "Fixed Point Iteration 3: x = -0.6571676923573335\n",
      "Fixed Point Iteration 4: x = -0.663220861831859\n",
      "Fixed Point Iteration 5: x = -0.6603956707502433\n",
      "Fixed Point Iteration 6: x = -0.6617200141134323\n",
      "Fixed Point Iteration 7: x = -0.6611004703255946\n",
      "Fixed Point Iteration 8: x = -0.6613905761850415\n",
      "Fixed Point Iteration 9: x = -0.6612547924553307\n",
      "Fixed Point Iteration 10: x = -0.6613183591251023\n",
      "Fixed Point Iteration 11: x = -0.6612886035170341\n",
      "Fixed Point Iteration 12: x = -0.6613025327765031\n",
      "Fixed Point Iteration 13: x = -0.6612960123208548\n",
      "Fixed Point Iteration 14: x = -0.6612990646559285\n",
      "Fixed Point Iteration 15: x = -0.6612976358131801\n",
      "Fixed Point Method: Root = -0.661298304676862, Iterations = 16\n"
     ]
    }
   ],
   "source": [
    "# Fixed point method\n",
    "x0_fp = -0.7  \n",
    "root_fp, iter_fp = fixed_point(g, x0_fp, tol)\n",
    "print(f'Fixed Point Method: Root = {root_fp}, Iterations = {iter_fp}')\n",
    "\n"
   ]
  },
  {
   "cell_type": "code",
   "execution_count": 31,
   "id": "8a066e39",
   "metadata": {},
   "outputs": [
    {
     "name": "stdout",
     "output_type": "stream",
     "text": [
      "Newton-Raphson Iteration 1: x = 3.3572218356561683\n",
      "Newton-Raphson Iteration 2: x = 2.288587029454023\n",
      "Newton-Raphson Iteration 3: x = 1.5647021114767399\n",
      "Newton-Raphson Iteration 4: x = 1.0387766144108588\n",
      "Newton-Raphson Iteration 5: x = 0.5638332485048418\n",
      "Newton-Raphson Iteration 6: x = -0.6869837747092775\n",
      "Newton-Raphson Iteration 7: x = -0.6620783662985433\n",
      "Newton-Raphson Iteration 8: x = -0.6612988422342533\n",
      "Newton-Raphson Iteration 9: x = -0.6612980914073798\n",
      "Newton-Raphson Method: Root = -0.6612980914073798, Iterations = 10\n"
     ]
    }
   ],
   "source": [
    "# Newton raphson method\n",
    "x0_newton = -0.7  # Initial guess\n",
    "root_newton, iter_newton = newton_raphson(f, df, x0_newton, tol)\n",
    "print(f'Newton-Raphson Method: Root = {root_newton}, Iterations = {iter_newton}')\n"
   ]
  },
  {
   "cell_type": "code",
   "execution_count": 32,
   "id": "fa738bb4",
   "metadata": {},
   "outputs": [
    {
     "name": "stdout",
     "output_type": "stream",
     "text": [
      "Secant Iteration 1: x = 3.6388698176883616\n",
      "Secant Iteration 2: x = 2.987478266108604\n",
      "Secant Iteration 3: x = 2.229308227424521\n",
      "Secant Iteration 4: x = 1.73239987533566\n",
      "Secant Iteration 5: x = 1.3170009593766903\n",
      "Secant Iteration 6: x = 0.9792022972397056\n",
      "Secant Iteration 7: x = 0.655140838472844\n",
      "Secant Iteration 8: x = 0.21468113304581615\n",
      "Secant Iteration 9: x = -2.24445825935385\n",
      "Secant Iteration 10: x = 0.1219810124758709\n",
      "Secant Iteration 11: x = 0.03146343341009286\n",
      "Secant Iteration 12: x = 8.808567652521464\n",
      "Secant Iteration 13: x = 0.025031262416080224\n",
      "Secant Iteration 14: x = 0.018592234474296025\n",
      "Secant Iteration 15: x = 24.553482765579485\n",
      "Secant Iteration 16: x = 0.017763767804627406\n",
      "Secant Iteration 17: x = 0.016935249559986255\n",
      "Secant Iteration 18: x = 30.412057528688667\n",
      "Secant Iteration 19: x = 0.016395088486820697\n",
      "Secant Iteration 20: x = 0.01585490857316729\n",
      "Secant Iteration 21: x = 32.59356863384949\n",
      "Secant Iteration 22: x = 0.015384584853777028\n",
      "Secant Iteration 23: x = 0.014914247756342267\n",
      "Secant Iteration 24: x = 34.58496084156194\n",
      "Secant Iteration 25: x = 0.01449647956732747\n",
      "Secant Iteration 26: x = 0.01407870142212882\n",
      "Secant Iteration 27: x = 36.57102947250596\n",
      "Secant Iteration 28: x = 0.013705064469839101\n",
      "Secant Iteration 29: x = 0.013331419980970097\n",
      "Secant Iteration 30: x = 38.558451010392595\n",
      "Secant Iteration 31: x = 0.012995289295908208\n",
      "Secant Iteration 32: x = 0.012659152822148752\n",
      "Secant Iteration 33: x = 40.54721302589979\n",
      "Secant Iteration 34: x = 0.012355164229674642\n",
      "Secant Iteration 35: x = 0.012051171132310036\n",
      "Secant Iteration 36: x = 42.53717187699822\n",
      "Secant Iteration 37: x = 0.011774952416480744\n",
      "Secant Iteration 38: x = 0.011498730153382089\n",
      "Secant Iteration 39: x = 44.5281106671365\n",
      "Secant Iteration 40: x = 0.011246652752546993\n",
      "Secant Iteration 41: x = 0.010994572528147529\n",
      "Secant Iteration 42: x = 46.519877835242795\n",
      "Secant Iteration 43: x = 0.010763607227680438\n",
      "Secant Iteration 44: x = 0.01053263965729867\n",
      "Secant Iteration 45: x = 48.51240300775671\n",
      "Secant Iteration 46: x = 0.010320252889613357\n",
      "Secant Iteration 47: x = 0.010107864280598322\n",
      "Secant Iteration 48: x = 50.50556976443648\n",
      "Secant Iteration 49: x = 0.009911907114862117\n",
      "Secant Iteration 50: x = 0.009715948442948884\n",
      "Secant Iteration 51: x = 52.49928113867999\n",
      "Secant Iteration 52: x = 0.009534585917023719\n",
      "Secant Iteration 53: x = 0.009353222149496698\n",
      "Secant Iteration 54: x = 54.49350070540763\n",
      "Secant Iteration 55: x = 0.009184887821710674\n",
      "Secant Iteration 56: x = 0.009016552463096182\n",
      "Secant Iteration 57: x = 56.488164079947076\n",
      "Secant Iteration 58: x = 0.008859894999780238\n",
      "Secant Iteration 59: x = 0.008703236674949951\n",
      "Secant Iteration 60: x = 58.48320495337618\n",
      "Secant Method: Root = 58.48320495337618, Iterations = 60\n"
     ]
    }
   ],
   "source": [
    "# Secant method\n",
    "x0_secant, x1_secant = -0.7, -0.6  # Initial guesses\n",
    "root_secant, iter_secant = secant_method(f, x0_secant, x1_secant, tol)\n",
    "print(f'Secant Method: Root = {root_secant}, Iterations = {iter_secant}')"
   ]
  },
  {
   "cell_type": "markdown",
   "id": "57278919",
   "metadata": {},
   "source": [
    "###  Apply all numerical methods above from scipy.optimize and find root for the mentioned function"
   ]
  },
  {
   "cell_type": "code",
   "execution_count": 28,
   "id": "803b56e1",
   "metadata": {},
   "outputs": [
    {
     "name": "stdout",
     "output_type": "stream",
     "text": [
      "Bisection Method (scipy): Root = -0.6612977981567383\n"
     ]
    }
   ],
   "source": [
    "# Bisection method from scipy.optimize\n",
    "root_bisect = bisect(f, a, b, xtol=tol)\n",
    "print(f'Bisection Method (scipy): Root = {root_bisect}')\n"
   ]
  },
  {
   "cell_type": "code",
   "execution_count": 29,
   "id": "60f5501d",
   "metadata": {},
   "outputs": [
    {
     "name": "stdout",
     "output_type": "stream",
     "text": [
      "Fixed Point Iteration 1: x = -0.6421882996316265\n",
      "Fixed Point Iteration 2: x = -0.6700178178106098\n",
      "Fixed Point Iteration 3: x = -0.6571676923573335\n",
      "Fixed Point Iteration 4: x = -0.663220861831859\n",
      "Fixed Point Iteration 5: x = -0.6603956707502433\n",
      "Fixed Point Iteration 6: x = -0.6617200141134323\n",
      "Fixed Point Iteration 7: x = -0.6611004703255946\n",
      "Fixed Point Iteration 8: x = -0.6613905761850415\n",
      "Fixed Point Iteration 9: x = -0.6612547924553307\n",
      "Fixed Point Iteration 10: x = -0.6613183591251023\n",
      "Fixed Point Iteration 11: x = -0.6612886035170341\n",
      "Fixed Point Iteration 12: x = -0.6613025327765031\n",
      "Fixed Point Iteration 13: x = -0.6612960123208548\n",
      "Fixed Point Iteration 14: x = -0.6612990646559285\n",
      "Fixed Point Iteration 15: x = -0.6612976358131801\n",
      "Fixed Point Method (scipy): Root = (np.float64(-0.661298304676862), 16)\n"
     ]
    }
   ],
   "source": [
    "# Fixed point method from scipy.optimize  (Reflect on this function and compare it to your manual calculations)\n",
    "\n",
    "root_fixed_point = fixed_point(g, x0_fp, tol=tol)\n",
    "print(f'Fixed Point Method (scipy): Root = {root_fixed_point}')\n"
   ]
  },
  {
   "cell_type": "code",
   "execution_count": 30,
   "id": "fb7e694d",
   "metadata": {},
   "outputs": [
    {
     "name": "stdout",
     "output_type": "stream",
     "text": [
      "Newton-Raphson Method (scipy): Root = -0.6612980914066837\n"
     ]
    }
   ],
   "source": [
    "# Newton raphson method from scipy.optimize\n",
    "\n",
    "root_newton = newton(f, x0_newton, fprime=df, tol=tol)\n",
    "print(f'Newton-Raphson Method (scipy): Root = {root_newton}')\n"
   ]
  },
  {
   "cell_type": "code",
   "execution_count": 43,
   "id": "dfe49046",
   "metadata": {},
   "outputs": [
    {
     "name": "stdout",
     "output_type": "stream",
     "text": [
      "Secant Method (scipy): Root = -0.6612980914239804\n"
     ]
    }
   ],
   "source": [
    "# Secant method  from scipy.optimize\n",
    "\n",
    "root_secant = newton(f, x0_secant, tol=tol)\n",
    "print(f'Secant Method (scipy): Root = {root_secant}')\n"
   ]
  }
 ],
 "metadata": {
  "kernelspec": {
   "display_name": "Python 3",
   "language": "python",
   "name": "python3"
  },
  "language_info": {
   "codemirror_mode": {
    "name": "ipython",
    "version": 3
   },
   "file_extension": ".py",
   "mimetype": "text/x-python",
   "name": "python",
   "nbconvert_exporter": "python",
   "pygments_lexer": "ipython3",
   "version": "3.12.5"
  }
 },
 "nbformat": 4,
 "nbformat_minor": 5
}
