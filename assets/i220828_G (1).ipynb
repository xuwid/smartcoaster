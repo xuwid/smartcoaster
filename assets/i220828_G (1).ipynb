{
 "cells": [
  {
   "cell_type": "markdown",
   "id": "4d5275fd",
   "metadata": {},
   "source": [
    "# Consider the following"
   ]
  },
  {
   "attachments": {},
   "cell_type": "markdown",
   "id": "8744792a",
   "metadata": {},
   "source": [
    "## Function Definition\n",
    "\n",
    "The function $ f(x)$ is defined as follows:\n",
    "\n",
    "$\n",
    "f(x) = \\cos(x) + x^3 - 0.5\n",
    "$\n",
    "\n",
    "### Description\n",
    "\n",
    "This function combines a trigonometric component, $ \\cos(x) $, with a polynomial component, $ x^3$. The goal is to find the roots of this function, which occur where $ f(x) = 0 $.\n",
    "\n",
    "\n",
    "**Tasks**:\n",
    "1. Use appropriate theorem to determine whether a root exists for the above function. Test different values from -5 to 5 or any other range.\n",
    "2. You must keep the same tolerance value. Choose smallest tolerance value. Choose initial guess as disscused in class.\n",
    "3. Apply the following numerical methods to approximate the root:\n",
    "   - Bisection Method\n",
    "   - Newton-Raphson Method\n",
    "   - Fixed Point Method (incase g(x) exists that assure convergence)\n",
    "   - Secant Method\n",
    "\n",
    "4. You must fill the table given below. "
   ]
  },
  {
   "cell_type": "code",
   "execution_count": null,
   "id": "771211fd",
   "metadata": {},
   "outputs": [],
   "source": []
  },
  {
   "cell_type": "markdown",
   "id": "66f9dce6",
   "metadata": {},
   "source": [
    "##### Comparison of Numerical Methods: Manual vs SciPy Implementations\n",
    "\n",
    "| Method           | Approximate Root (Manual) | Approximate Root (SciPy) | Iterations (Manual) | Iterations (SciPy) | Notes/Observations                  |\n",
    "|------------------|---------------------------|--------------------------|---------------------|--------------------|--------------------------------------|\n",
    "| Bisection        | -0.6612985184462545       | -0.6612985184462545      | 19                  | ?                  | ?                                    |\n",
    "| Newton-Raphson   | -0.6612980914066836       | -0.6612980914066836      | 5                   | ?                  | ?                                    |\n",
    "| Fixed Point      | -0.6612983934286825       | -0.6612980914066837      | 17                  | ?                  | ?                                    |\n",
    "| Secant           | -0.6612978858432932       | -0.6612980914087628      | 13                  | ?                  | ?                                    |\n",
    "\n",
    "---\n",
    "\n",
    "##### Instructions:\n",
    "- **Manual Implementation**: Implement each method yourself without using external libraries.\n",
    "- **SciPy Implementation**: Use the corresponding `scipy.optimize` functions (e.g., `scipy.optimize.bisect` for Bisection).\n",
    "- **Compare**: Fill in the results for both approaches (manual vs SciPy) for each method.\n",
    "- **Notes/Observations**: Reflect on differences in performance, accuracy, and ease of implementation between your manual solution and the SciPy function.\n"
   ]
  },
  {
   "cell_type": "code",
   "execution_count": 47,
   "id": "215226a6",
   "metadata": {},
   "outputs": [],
   "source": [
    "# All imports here\n",
    "import numpy as np\n",
    "import scipy as sp\n",
    "import scipy.optimize as spo\n"
   ]
  },
  {
   "cell_type": "code",
   "execution_count": 48,
   "id": "78eb61ba",
   "metadata": {},
   "outputs": [],
   "source": [
    "# TODO: Implement only the function above in python $f(x) = \\cos(x) + x^3 - 0.5$\n",
    "f = lambda x: np.cos(x) + x**3 - 0.5"
   ]
  },
  {
   "cell_type": "code",
   "execution_count": null,
   "id": "b4ad5ab1",
   "metadata": {},
   "outputs": [],
   "source": []
  },
  {
   "cell_type": "code",
   "execution_count": 49,
   "id": "d828726f",
   "metadata": {},
   "outputs": [],
   "source": [
    "# TODO: Implement the Bisection method for root approximation below\n",
    "def bisection(f,a,b,tol=1.e-6,maxiter=60):\n",
    "    x=-1\n",
    "    iteration = 0\n",
    "    if(f(a)*f(b)<0.0):\n",
    "        while((b-a)>tol and iteration < maxiter):\n",
    "            iteration = iteration + 1\n",
    "            x = (a+b)/2.0\n",
    "            if((f(a)*f(x))<0.0):\n",
    "                b=x\n",
    "            elif((f(x)*f(b))<0.0):\n",
    "                a=x        \n",
    "            else:\n",
    "                break\n",
    "            print(\"iteration =\",iteration,\", x =\",x)                \n",
    "    else:\n",
    "        print(\"failure\")\n",
    "    return x\n"
   ]
  },
  {
   "cell_type": "code",
   "execution_count": 50,
   "id": "a7e5b874",
   "metadata": {},
   "outputs": [],
   "source": [
    "g = lambda x: np.cbrt(0.5 - np.cos(x))"
   ]
  },
  {
   "cell_type": "code",
   "execution_count": 51,
   "id": "03d3b302",
   "metadata": {},
   "outputs": [],
   "source": [
    "# TODO: Implement the Fixed point method for root approximation below, incase there are suitable g(x) to approximate the fixed point else mention the reason?\n",
    "def fixedpoint(g,xo,tol=1.e-6,maxiter=60):\n",
    "    err=1.0\n",
    "    iteration=0\n",
    "    xk=xo\n",
    "    while(err>tol and iteration <maxiter):\n",
    "        iteration=iteration+1\n",
    "        err=xk\n",
    "        xk=g(xk)\n",
    "        err=np.abs(err-xk)\n",
    "        print(\"iteration =\",iteration,\", x =\",xk)\n",
    "        \n",
    "    return xk"
   ]
  },
  {
   "cell_type": "code",
   "execution_count": null,
   "id": "3cdf4e36",
   "metadata": {},
   "outputs": [],
   "source": []
  },
  {
   "cell_type": "code",
   "execution_count": 52,
   "id": "e632d336",
   "metadata": {},
   "outputs": [],
   "source": [
    "# TODO: Implement the derivative of the function\n",
    "fprime = lambda x: -np.sin(x) + 3*x**2\n",
    "\n",
    "# TODO: Implement the newton raphson method for root approximation below, choose the initial guess as disscussed in the class. \n",
    "def newton(f,fprime,xo,tol=1.e-6,maxiter=60):\n",
    "    err=1.0\n",
    "    iteration=0\n",
    "    xk=xo\n",
    "    while(err>tol and iteration <maxiter):\n",
    "        iteration=iteration+1\n",
    "        err=xk\n",
    "        xk=xk-(f(xk)/fprime(xk))\n",
    "        err=np.abs(err-xk)\n",
    "        print(\"iteration =\",iteration,\", x =\",xk)\n",
    "        \n",
    "    return xk"
   ]
  },
  {
   "cell_type": "code",
   "execution_count": 53,
   "id": "da1a6080",
   "metadata": {},
   "outputs": [],
   "source": [
    "# TODO: Implement the secant method for root approximation below\n",
    "def secant(f,x1,x2,tol=1.e-6,maxiter=60):\n",
    "    err=1.0\n",
    "    iteration=0\n",
    "    xk=x1\n",
    "    xk1=x2\n",
    "    while(err>tol and iteration <maxiter):\n",
    "        iteration=iteration+1\n",
    "        err=xk1\n",
    "        xk1=xk-(xk-xk1)/(f(xk)-f(xk1))*f(xk)\n",
    "        err=np.abs(err-xk1)\n",
    "        x1=x2\n",
    "        x2=xk1\n",
    "        print(\"iteration =\",iteration,\", x =\",xk1)\n",
    "        \n",
    "    return xk1\n",
    "\n",
    "\n"
   ]
  },
  {
   "cell_type": "markdown",
   "id": "2600b13b",
   "metadata": {},
   "source": [
    "## Function calls for each numerical method you implemented in above functions"
   ]
  },
  {
   "cell_type": "code",
   "execution_count": 54,
   "id": "748282bf",
   "metadata": {},
   "outputs": [],
   "source": [
    "# Test all method here by calling the function you implemented above\n",
    "\n",
    "\n"
   ]
  },
  {
   "cell_type": "code",
   "execution_count": 55,
   "id": "501360fb",
   "metadata": {},
   "outputs": [
    {
     "name": "stdout",
     "output_type": "stream",
     "text": [
      "iteration = 1 , x = -0.7853981633974483\n",
      "iteration = 2 , x = -0.6544984694978735\n",
      "iteration = 3 , x = -0.7199483164476609\n",
      "iteration = 4 , x = -0.6872233929727671\n",
      "iteration = 5 , x = -0.6708609312353203\n",
      "iteration = 6 , x = -0.662679700366597\n",
      "iteration = 7 , x = -0.6585890849322352\n",
      "iteration = 8 , x = -0.660634392649416\n",
      "iteration = 9 , x = -0.6616570465080065\n",
      "iteration = 10 , x = -0.6611457195787113\n",
      "iteration = 11 , x = -0.6614013830433589\n",
      "iteration = 12 , x = -0.661273551311035\n",
      "iteration = 13 , x = -0.661337467177197\n",
      "iteration = 14 , x = -0.661305509244116\n",
      "iteration = 15 , x = -0.6612895302775755\n",
      "iteration = 16 , x = -0.6612975197608457\n",
      "iteration = 17 , x = -0.6613015145024809\n",
      "iteration = 18 , x = -0.6612995171316634\n",
      "iteration = 19 , x = -0.6612985184462545\n",
      "Approximate solution is:  -0.6612985184462545\n",
      "The value f(x) is:  -8.225159339181332e-07\n"
     ]
    }
   ],
   "source": [
    "# Bisection method\n",
    "a = -np.pi/3.0\n",
    "b = -np.pi/6.0\n",
    "x = bisection(f, a, b)\n",
    "print('Approximate solution is: ', x)\n",
    "print('The value f(x) is: ', f(x))\n"
   ]
  },
  {
   "cell_type": "code",
   "execution_count": 56,
   "id": "887c601a",
   "metadata": {},
   "outputs": [
    {
     "name": "stdout",
     "output_type": "stream",
     "text": [
      "iteration = 1 , x = -0.715325558807779\n",
      "iteration = 2 , x = -0.6340328834652382\n",
      "iteration = 3 , x = -0.673605712080953\n",
      "iteration = 4 , x = -0.6554395424114796\n",
      "iteration = 5 , x = -0.6640190184378538\n",
      "iteration = 6 , x = -0.6600196887519172\n",
      "iteration = 7 , x = -0.6618954997307931\n",
      "iteration = 8 , x = -0.6610182096375661\n",
      "iteration = 9 , x = -0.6614290588555207\n",
      "iteration = 10 , x = -0.6612367726899471\n",
      "iteration = 11 , x = -0.6613267932621777\n",
      "iteration = 12 , x = -0.6612846551069633\n",
      "iteration = 13 , x = -0.661304381030624\n",
      "iteration = 14 , x = -0.661295147112204\n",
      "iteration = 15 , x = -0.661299469670626\n",
      "iteration = 16 , x = -0.6612974462189838\n",
      "iteration = 17 , x = -0.6612983934286825\n",
      "Approximate solution is:  -0.6612983934286825\n",
      "The value f(x) is:  -5.817209575154081e-07\n"
     ]
    }
   ],
   "source": [
    "# Fixed point method\n",
    "xo = -np.pi/6.0\n",
    "x = fixedpoint(g,xo)\n",
    "print('Approximate solution is: ', x)\n",
    "print('The value f(x) is: ', f(x))\n"
   ]
  },
  {
   "cell_type": "code",
   "execution_count": 57,
   "id": "8a066e39",
   "metadata": {},
   "outputs": [
    {
     "name": "stdout",
     "output_type": "stream",
     "text": [
      "iteration = 1 , x = -0.6918281687989687\n",
      "iteration = 2 , x = -0.662391704064062\n",
      "iteration = 3 , x = -0.6612995655474838\n",
      "iteration = 4 , x = -0.6612980914093671\n",
      "iteration = 5 , x = -0.6612980914066836\n",
      "Approximate solution is:  -0.6612980914066836\n",
      "The value f(x) is:  0.0\n"
     ]
    }
   ],
   "source": [
    "# Newton raphson method\n",
    "xo = -np.pi/6.0\n",
    "x = newton(f,fprime,xo)\n",
    "print('Approximate solution is: ', x)\n",
    "print('The value f(x) is: ', f(x))"
   ]
  },
  {
   "cell_type": "code",
   "execution_count": 58,
   "id": "fa738bb4",
   "metadata": {},
   "outputs": [
    {
     "name": "stdout",
     "output_type": "stream",
     "text": [
      "iteration = 1 , x = -0.6085740829067635\n",
      "iteration = 2 , x = -0.642110091231767\n",
      "iteration = 3 , x = -0.654452294611146\n",
      "iteration = 4 , x = -0.6588734019814753\n",
      "iteration = 5 , x = -0.6604415324441457\n",
      "iteration = 6 , x = -0.6609957779428841\n",
      "iteration = 7 , x = -0.6611914278549416\n",
      "iteration = 8 , x = -0.66126046224137\n",
      "iteration = 9 , x = -0.6612848169888286\n",
      "iteration = 10 , x = -0.6612934086654563\n",
      "iteration = 11 , x = -0.661296439510927\n",
      "iteration = 12 , x = -0.6612975086807564\n",
      "iteration = 13 , x = -0.6612978858432932\n",
      "Approximate solution is:  -0.6612978858432932\n",
      "The value f(x) is:  3.9593293821305053e-07\n"
     ]
    }
   ],
   "source": [
    "# Secant method\n",
    "xo = -np.pi/3.0\n",
    "x1 = -np.pi/6.0\n",
    "x = secant(f,xo,x1)\n",
    "print('Approximate solution is: ', x)\n",
    "print('The value f(x) is: ', f(x))"
   ]
  },
  {
   "cell_type": "markdown",
   "id": "57278919",
   "metadata": {},
   "source": [
    "###  Apply all numerical methods above from scipy.optimize and find root for the mentioned function"
   ]
  },
  {
   "cell_type": "code",
   "execution_count": 59,
   "id": "803b56e1",
   "metadata": {},
   "outputs": [
    {
     "name": "stdout",
     "output_type": "stream",
     "text": [
      "Approximate solution is:  -0.6612985184462545\n",
      "The value f(x) is:  -8.225159339181332e-07\n"
     ]
    }
   ],
   "source": [
    "# Bisection method from scipy.optimize\n",
    "a = -np.pi/3.0\n",
    "b = -np.pi/6.0\n",
    "tol = 1.e-6\n",
    "x = spo.bisect(f, a, b, () , tol)\n",
    "print('Approximate solution is: ', x)\n",
    "print('The value f(x) is: ', f(x))\n"
   ]
  },
  {
   "cell_type": "code",
   "execution_count": 60,
   "id": "60f5501d",
   "metadata": {},
   "outputs": [
    {
     "name": "stdout",
     "output_type": "stream",
     "text": [
      "Approximate solution is:  -0.6612980914066837\n",
      "The value f(x) is:  -5.551115123125783e-17\n"
     ]
    }
   ],
   "source": [
    "# Fixed point method from scipy.optimize  (Reflect on this function and compare it to your manual calculations)\n",
    "xo = -np.pi/6.0\n",
    "tol = 1.e-6\n",
    "maxiter = 60\n",
    "x = spo.fixed_point(g, xo, (), tol, maxiter)\n",
    "print('Approximate solution is: ', x)\n",
    "print('The value f(x) is: ', f(x))\n"
   ]
  },
  {
   "cell_type": "code",
   "execution_count": 61,
   "id": "fb7e694d",
   "metadata": {},
   "outputs": [
    {
     "name": "stdout",
     "output_type": "stream",
     "text": [
      "Approximate solution is:  -0.6612980914066836\n",
      "The value f(x) is:  0.0\n"
     ]
    }
   ],
   "source": [
    "# Newton raphson method from scipy.optimize\n",
    "xo = -np.pi/6.0 \n",
    "tol=1.e-6\n",
    "maxiter=60\n",
    "x = spo.newton(f, xo, fprime=fprime, tol=tol, maxiter=maxiter)\n",
    "print('Approximate solution is: ', x)\n",
    "print('The value f(x) is: ', f(x))\n"
   ]
  },
  {
   "cell_type": "code",
   "execution_count": 62,
   "id": "dfe49046",
   "metadata": {},
   "outputs": [
    {
     "name": "stdout",
     "output_type": "stream",
     "text": [
      "Approximate solution is:  -0.6612980914087628\n",
      "The value f(x) is:  -4.004629960974171e-12\n"
     ]
    }
   ],
   "source": [
    "# Secant method  from scipy.optimize\n",
    "xo = -np.pi/3.0\n",
    "x1 = -np.pi/6.0  \n",
    "tol=1.e-6\n",
    "x = spo.newton(f, xo, x1=x1, tol=tol)\n",
    "print('Approximate solution is: ', x)\n",
    "print('The value f(x) is: ', f(x))\n",
    "\n"
   ]
  },
  {
   "cell_type": "code",
   "execution_count": null,
   "id": "2d934c64-830b-4640-9dd4-7fdcefff43d9",
   "metadata": {},
   "outputs": [],
   "source": []
  }
 ],
 "metadata": {
  "kernelspec": {
   "display_name": "Python 3 (ipykernel)",
   "language": "python",
   "name": "python3"
  },
  "language_info": {
   "codemirror_mode": {
    "name": "ipython",
    "version": 3
   },
   "file_extension": ".py",
   "mimetype": "text/x-python",
   "name": "python",
   "nbconvert_exporter": "python",
   "pygments_lexer": "ipython3",
   "version": "3.11.7"
  }
 },
 "nbformat": 4,
 "nbformat_minor": 5
}
